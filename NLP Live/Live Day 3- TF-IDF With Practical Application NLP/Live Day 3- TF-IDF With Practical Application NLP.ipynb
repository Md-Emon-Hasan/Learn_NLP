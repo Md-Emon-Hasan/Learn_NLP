{
 "cells": [
  {
   "cell_type": "code",
   "execution_count": 80,
   "metadata": {},
   "outputs": [],
   "source": [
    "paragraph = '''\n",
    "    Narendra Damodardas Modi (Gujarati: [ˈnəɾendɾə dɑmodəɾˈdɑs ˈmodiː] (listen); born 17 September 1950)[b] is an Indian politician who has served as the 14th Prime Minister of India since May 2014. Modi was the Chief Minister of Gujarat from 2001 to 2014 and is the Member of Parliament (MP) for Varanasi. He is a member of the Bharatiya Janata Party (BJP) and of the Rashtriya Swayamsevak Sangh (RSS), a right-wing Hindu nationalist paramilitary volunteer organisation. He is the longest-serving prime minister from outside the Indian National Congress.\n",
    "\n",
    "    Modi was born and raised in Vadnagar in northeastern Gujarat, where he completed his secondary education. He was introduced to the RSS at age eight. His account of helping his father sell tea at the Vadnagar railway station has not been reliably corroborated. At age 18, he was married to Jashodaben Modi, whom he abandoned soon after, only publicly acknowledging her four decades later when legally required to do so. Modi became a full-time worker for the RSS in Gujarat in 1971. The RSS assigned him to the BJP in 1985 and he held several positions within the party hierarchy until 2001, rising to the rank of general secretary.[c] \n",
    "'''"
   ]
  },
  {
   "cell_type": "code",
   "execution_count": 81,
   "metadata": {},
   "outputs": [
    {
     "data": {
      "text/plain": [
       "'\\n    Narendra Damodardas Modi (Gujarati: [ˈnəɾendɾə dɑmodəɾˈdɑs ˈmodiː] (listen); born 17 September 1950)[b] is an Indian politician who has served as the 14th Prime Minister of India since May 2014. Modi was the Chief Minister of Gujarat from 2001 to 2014 and is the Member of Parliament (MP) for Varanasi. He is a member of the Bharatiya Janata Party (BJP) and of the Rashtriya Swayamsevak Sangh (RSS), a right-wing Hindu nationalist paramilitary volunteer organisation. He is the longest-serving prime minister from outside the Indian National Congress.\\n\\n    Modi was born and raised in Vadnagar in northeastern Gujarat, where he completed his secondary education. He was introduced to the RSS at age eight. His account of helping his father sell tea at the Vadnagar railway station has not been reliably corroborated. At age 18, he was married to Jashodaben Modi, whom he abandoned soon after, only publicly acknowledging her four decades later when legally required to do so. Modi became a full-time worker for the RSS in Gujarat in 1971. The RSS assigned him to the BJP in 1985 and he held several positions within the party hierarchy until 2001, rising to the rank of general secretary.[c] \\n'"
      ]
     },
     "execution_count": 81,
     "metadata": {},
     "output_type": "execute_result"
    }
   ],
   "source": [
    "paragraph"
   ]
  },
  {
   "cell_type": "code",
   "execution_count": 82,
   "metadata": {},
   "outputs": [],
   "source": [
    "import nltk\n",
    "from nltk.stem.porter import PorterStemmer\n",
    "from nltk.corpus import stopwords"
   ]
  },
  {
   "cell_type": "code",
   "execution_count": 83,
   "metadata": {},
   "outputs": [
    {
     "name": "stderr",
     "output_type": "stream",
     "text": [
      "[nltk_data] Downloading package punkt to\n",
      "[nltk_data]     C:\\Users\\emon1\\AppData\\Roaming\\nltk_data...\n",
      "[nltk_data]   Package punkt is already up-to-date!\n"
     ]
    },
    {
     "data": {
      "text/plain": [
       "['\\n    Narendra Damodardas Modi (Gujarati: [ˈnəɾendɾə dɑmodəɾˈdɑs ˈmodiː] (listen); born 17 September 1950)[b] is an Indian politician who has served as the 14th Prime Minister of India since May 2014.',\n",
       " 'Modi was the Chief Minister of Gujarat from 2001 to 2014 and is the Member of Parliament (MP) for Varanasi.',\n",
       " 'He is a member of the Bharatiya Janata Party (BJP) and of the Rashtriya Swayamsevak Sangh (RSS), a right-wing Hindu nationalist paramilitary volunteer organisation.',\n",
       " 'He is the longest-serving prime minister from outside the Indian National Congress.',\n",
       " 'Modi was born and raised in Vadnagar in northeastern Gujarat, where he completed his secondary education.',\n",
       " 'He was introduced to the RSS at age eight.',\n",
       " 'His account of helping his father sell tea at the Vadnagar railway station has not been reliably corroborated.',\n",
       " 'At age 18, he was married to Jashodaben Modi, whom he abandoned soon after, only publicly acknowledging her four decades later when legally required to do so.',\n",
       " 'Modi became a full-time worker for the RSS in Gujarat in 1971.',\n",
       " 'The RSS assigned him to the BJP in 1985 and he held several positions within the party hierarchy until 2001, rising to the rank of general secretary.',\n",
       " '[c]']"
      ]
     },
     "execution_count": 83,
     "metadata": {},
     "output_type": "execute_result"
    }
   ],
   "source": [
    "# tokenization -- converts paragraphs to sentence\n",
    "nltk.download('punkt')\n",
    "sentences = nltk.sent_tokenize(paragraph)\n",
    "sentences"
   ]
  },
  {
   "cell_type": "code",
   "execution_count": 84,
   "metadata": {},
   "outputs": [
    {
     "name": "stdout",
     "output_type": "stream",
     "text": [
      "['\\n    Narendra Damodardas Modi (Gujarati: [ˈnəɾendɾə dɑmodəɾˈdɑs ˈmodiː] (listen); born 17 September 1950)[b] is an Indian politician who has served as the 14th Prime Minister of India since May 2014.', 'Modi was the Chief Minister of Gujarat from 2001 to 2014 and is the Member of Parliament (MP) for Varanasi.', 'He is a member of the Bharatiya Janata Party (BJP) and of the Rashtriya Swayamsevak Sangh (RSS), a right-wing Hindu nationalist paramilitary volunteer organisation.', 'He is the longest-serving prime minister from outside the Indian National Congress.', 'Modi was born and raised in Vadnagar in northeastern Gujarat, where he completed his secondary education.', 'He was introduced to the RSS at age eight.', 'His account of helping his father sell tea at the Vadnagar railway station has not been reliably corroborated.', 'At age 18, he was married to Jashodaben Modi, whom he abandoned soon after, only publicly acknowledging her four decades later when legally required to do so.', 'Modi became a full-time worker for the RSS in Gujarat in 1971.', 'The RSS assigned him to the BJP in 1985 and he held several positions within the party hierarchy until 2001, rising to the rank of general secretary.', '[c]']\n"
     ]
    }
   ],
   "source": [
    "print(sentences)"
   ]
  },
  {
   "cell_type": "code",
   "execution_count": 85,
   "metadata": {},
   "outputs": [
    {
     "data": {
      "text/plain": [
       "11"
      ]
     },
     "execution_count": 85,
     "metadata": {},
     "output_type": "execute_result"
    }
   ],
   "source": [
    "len(sentences)"
   ]
  },
  {
   "cell_type": "code",
   "execution_count": 86,
   "metadata": {},
   "outputs": [
    {
     "data": {
      "text/plain": [
       "list"
      ]
     },
     "execution_count": 86,
     "metadata": {},
     "output_type": "execute_result"
    }
   ],
   "source": [
    "type(sentences)"
   ]
  },
  {
   "cell_type": "code",
   "execution_count": 87,
   "metadata": {},
   "outputs": [
    {
     "data": {
      "text/plain": [
       "'\\n    Narendra Damodardas Modi (Gujarati: [ˈnəɾendɾə dɑmodəɾˈdɑs ˈmodiː] (listen); born 17 September 1950)[b] is an Indian politician who has served as the 14th Prime Minister of India since May 2014.'"
      ]
     },
     "execution_count": 87,
     "metadata": {},
     "output_type": "execute_result"
    }
   ],
   "source": [
    "sentences[0]"
   ]
  },
  {
   "cell_type": "code",
   "execution_count": 88,
   "metadata": {},
   "outputs": [],
   "source": [
    "stemmer = PorterStemmer()"
   ]
  },
  {
   "cell_type": "code",
   "execution_count": 89,
   "metadata": {},
   "outputs": [
    {
     "data": {
      "text/plain": [
       "'facial'"
      ]
     },
     "execution_count": 89,
     "metadata": {},
     "output_type": "execute_result"
    }
   ],
   "source": [
    "stemmer.stem('facial')"
   ]
  },
  {
   "cell_type": "code",
   "execution_count": 90,
   "metadata": {},
   "outputs": [
    {
     "data": {
      "text/plain": [
       "'think'"
      ]
     },
     "execution_count": 90,
     "metadata": {},
     "output_type": "execute_result"
    }
   ],
   "source": [
    "stemmer.stem('thinking')"
   ]
  },
  {
   "cell_type": "code",
   "execution_count": 91,
   "metadata": {},
   "outputs": [
    {
     "data": {
      "text/plain": [
       "'drink'"
      ]
     },
     "execution_count": 91,
     "metadata": {},
     "output_type": "execute_result"
    }
   ],
   "source": [
    "stemmer.stem('drinking')"
   ]
  },
  {
   "cell_type": "code",
   "execution_count": 92,
   "metadata": {},
   "outputs": [],
   "source": [
    "from nltk.stem import WordNetLemmatizer"
   ]
  },
  {
   "cell_type": "code",
   "execution_count": 93,
   "metadata": {},
   "outputs": [],
   "source": [
    "lemmatizer = WordNetLemmatizer()"
   ]
  },
  {
   "cell_type": "code",
   "execution_count": 94,
   "metadata": {},
   "outputs": [
    {
     "data": {
      "text/plain": [
       "'history'"
      ]
     },
     "execution_count": 94,
     "metadata": {},
     "output_type": "execute_result"
    }
   ],
   "source": [
    "lemmatizer.lemmatize('history')"
   ]
  },
  {
   "cell_type": "code",
   "execution_count": 95,
   "metadata": {},
   "outputs": [
    {
     "data": {
      "text/plain": [
       "'going'"
      ]
     },
     "execution_count": 95,
     "metadata": {},
     "output_type": "execute_result"
    }
   ],
   "source": [
    "lemmatizer.lemmatize('going')"
   ]
  },
  {
   "cell_type": "code",
   "execution_count": 96,
   "metadata": {},
   "outputs": [
    {
     "data": {
      "text/plain": [
       "'drinking'"
      ]
     },
     "execution_count": 96,
     "metadata": {},
     "output_type": "execute_result"
    }
   ],
   "source": [
    "lemmatizer.lemmatize('drinking')"
   ]
  },
  {
   "cell_type": "code",
   "execution_count": 97,
   "metadata": {},
   "outputs": [
    {
     "data": {
      "text/plain": [
       "'go'"
      ]
     },
     "execution_count": 97,
     "metadata": {},
     "output_type": "execute_result"
    }
   ],
   "source": [
    "lemmatizer.lemmatize('goes')"
   ]
  },
  {
   "cell_type": "code",
   "execution_count": 98,
   "metadata": {},
   "outputs": [],
   "source": [
    "import re"
   ]
  },
  {
   "cell_type": "code",
   "execution_count": 99,
   "metadata": {},
   "outputs": [
    {
     "data": {
      "text/plain": [
       "['narendra damodarda modi gujarati n end mod modi listen born septemb b indian politician serv th prime minist india sinc may',\n",
       " 'modi chief minist gujarat member parliament mp varanasi',\n",
       " 'member bharatiya janata parti bjp rashtriya swayamsevak sangh rss right wing hindu nationalist paramilitari volunt organis',\n",
       " 'longest serv prime minist outsid indian nation congress',\n",
       " 'modi born rais vadnagar northeastern gujarat complet secondari educ',\n",
       " 'introduc rss age eight',\n",
       " 'account help father sell tea vadnagar railway station reliabl corrobor',\n",
       " 'age marri jashodaben modi abandon soon publicli acknowledg four decad later legal requir',\n",
       " 'modi becam full time worker rss gujarat',\n",
       " 'rss assign bjp held sever posit within parti hierarchi rise rank gener secretari',\n",
       " 'c']"
      ]
     },
     "execution_count": 99,
     "metadata": {},
     "output_type": "execute_result"
    }
   ],
   "source": [
    "# stemming\n",
    "corpus = []\n",
    "for i in range(len(sentences)):\n",
    "    review = re.sub('[^a-zA-Z]', ' ',sentences[i])\n",
    "    review = review.lower()\n",
    "    review = review.split()\n",
    "    review = [stemmer.stem(word) for word in review if not word in set(stopwords.words('english'))]\n",
    "    review = ' '.join(review)\n",
    "    corpus.append(review)\n",
    "corpus"
   ]
  },
  {
   "cell_type": "code",
   "execution_count": 100,
   "metadata": {},
   "outputs": [
    {
     "data": {
      "text/plain": [
       "['narendra damodardas modi gujarati n end mod modi listen born september b indian politician served th prime minister india since may',\n",
       " 'modi chief minister gujarat member parliament mp varanasi',\n",
       " 'member bharatiya janata party bjp rashtriya swayamsevak sangh r right wing hindu nationalist paramilitary volunteer organisation',\n",
       " 'longest serving prime minister outside indian national congress',\n",
       " 'modi born raised vadnagar northeastern gujarat completed secondary education',\n",
       " 'introduced r age eight',\n",
       " 'account helping father sell tea vadnagar railway station reliably corroborated',\n",
       " 'age married jashodaben modi abandoned soon publicly acknowledging four decade later legally required',\n",
       " 'modi became full time worker r gujarat',\n",
       " 'r assigned bjp held several position within party hierarchy rising rank general secretary',\n",
       " 'c']"
      ]
     },
     "execution_count": 100,
     "metadata": {},
     "output_type": "execute_result"
    }
   ],
   "source": [
    "# lemmatization\n",
    "corpus = []\n",
    "for i in range(len(sentences)):\n",
    "    review = re.sub('[^a-zA-Z]', ' ',sentences[i])\n",
    "    review = review.lower()\n",
    "    review = review.split()\n",
    "    review = [lemmatizer.lemmatize(word) for word in review if not word in set(stopwords.words('english'))]\n",
    "    review = ' '.join(review)\n",
    "    corpus.append(review)\n",
    "corpus"
   ]
  },
  {
   "cell_type": "code",
   "execution_count": 101,
   "metadata": {},
   "outputs": [],
   "source": [
    "from sklearn.feature_extraction.text import CountVectorizer\n",
    "\n",
    "# cv = CountVectorizer(binary=True,ngram_range=(3,3))\n",
    "cv = CountVectorizer(binary=True,ngram_range=(2,3))\n",
    "\n",
    "x = cv.fit_transform(corpus)"
   ]
  },
  {
   "cell_type": "code",
   "execution_count": 102,
   "metadata": {},
   "outputs": [
    {
     "data": {
      "text/plain": [
       "{'narendra damodardas': 100,\n",
       " 'damodardas modi': 27,\n",
       " 'modi gujarati': 95,\n",
       " 'gujarati end': 44,\n",
       " 'end mod': 31,\n",
       " 'mod modi': 85,\n",
       " 'modi listen': 97,\n",
       " 'listen born': 69,\n",
       " 'born september': 21,\n",
       " 'september indian': 144,\n",
       " 'indian politician': 58,\n",
       " 'politician served': 117,\n",
       " 'served th': 146,\n",
       " 'th prime': 161,\n",
       " 'prime minister': 121,\n",
       " 'minister india': 81,\n",
       " 'india since': 54,\n",
       " 'since may': 152,\n",
       " 'narendra damodardas modi': 101,\n",
       " 'damodardas modi gujarati': 28,\n",
       " 'modi gujarati end': 96,\n",
       " 'gujarati end mod': 45,\n",
       " 'end mod modi': 32,\n",
       " 'mod modi listen': 86,\n",
       " 'modi listen born': 98,\n",
       " 'listen born september': 70,\n",
       " 'born september indian': 22,\n",
       " 'september indian politician': 145,\n",
       " 'indian politician served': 59,\n",
       " 'politician served th': 118,\n",
       " 'served th prime': 147,\n",
       " 'th prime minister': 162,\n",
       " 'prime minister india': 122,\n",
       " 'minister india since': 82,\n",
       " 'india since may': 55,\n",
       " 'modi chief': 93,\n",
       " 'chief minister': 23,\n",
       " 'minister gujarat': 79,\n",
       " 'gujarat member': 42,\n",
       " 'member parliament': 77,\n",
       " 'parliament mp': 111,\n",
       " 'mp varanasi': 99,\n",
       " 'modi chief minister': 94,\n",
       " 'chief minister gujarat': 24,\n",
       " 'minister gujarat member': 80,\n",
       " 'gujarat member parliament': 43,\n",
       " 'member parliament mp': 78,\n",
       " 'parliament mp varanasi': 112,\n",
       " 'member bharatiya': 75,\n",
       " 'bharatiya janata': 13,\n",
       " 'janata party': 62,\n",
       " 'party bjp': 113,\n",
       " 'bjp rashtriya': 17,\n",
       " 'rashtriya swayamsevak': 132,\n",
       " 'swayamsevak sangh': 157,\n",
       " 'sangh right': 139,\n",
       " 'right wing': 135,\n",
       " 'wing hindu': 170,\n",
       " 'hindu nationalist': 52,\n",
       " 'nationalist paramilitary': 103,\n",
       " 'paramilitary volunteer': 109,\n",
       " 'volunteer organisation': 169,\n",
       " 'member bharatiya janata': 76,\n",
       " 'bharatiya janata party': 14,\n",
       " 'janata party bjp': 63,\n",
       " 'party bjp rashtriya': 114,\n",
       " 'bjp rashtriya swayamsevak': 18,\n",
       " 'rashtriya swayamsevak sangh': 133,\n",
       " 'swayamsevak sangh right': 158,\n",
       " 'sangh right wing': 140,\n",
       " 'right wing hindu': 136,\n",
       " 'wing hindu nationalist': 171,\n",
       " 'hindu nationalist paramilitary': 53,\n",
       " 'nationalist paramilitary volunteer': 104,\n",
       " 'paramilitary volunteer organisation': 110,\n",
       " 'longest serving': 71,\n",
       " 'serving prime': 148,\n",
       " 'minister outside': 83,\n",
       " 'outside indian': 107,\n",
       " 'indian national': 56,\n",
       " 'national congress': 102,\n",
       " 'longest serving prime': 72,\n",
       " 'serving prime minister': 149,\n",
       " 'prime minister outside': 123,\n",
       " 'minister outside indian': 84,\n",
       " 'outside indian national': 108,\n",
       " 'indian national congress': 57,\n",
       " 'modi born': 91,\n",
       " 'born raised': 19,\n",
       " 'raised vadnagar': 128,\n",
       " 'vadnagar northeastern': 165,\n",
       " 'northeastern gujarat': 105,\n",
       " 'gujarat completed': 40,\n",
       " 'completed secondary': 25,\n",
       " 'secondary education': 141,\n",
       " 'modi born raised': 92,\n",
       " 'born raised vadnagar': 20,\n",
       " 'raised vadnagar northeastern': 129,\n",
       " 'vadnagar northeastern gujarat': 166,\n",
       " 'northeastern gujarat completed': 106,\n",
       " 'gujarat completed secondary': 41,\n",
       " 'completed secondary education': 26,\n",
       " 'introduced age': 60,\n",
       " 'age eight': 6,\n",
       " 'introduced age eight': 61,\n",
       " 'account helping': 2,\n",
       " 'helping father': 48,\n",
       " 'father sell': 33,\n",
       " 'sell tea': 142,\n",
       " 'tea vadnagar': 159,\n",
       " 'vadnagar railway': 167,\n",
       " 'railway station': 126,\n",
       " 'station reliably': 155,\n",
       " 'reliably corroborated': 134,\n",
       " 'account helping father': 3,\n",
       " 'helping father sell': 49,\n",
       " 'father sell tea': 34,\n",
       " 'sell tea vadnagar': 143,\n",
       " 'tea vadnagar railway': 160,\n",
       " 'vadnagar railway station': 168,\n",
       " 'railway station reliably': 127,\n",
       " 'station reliably corroborated': 156,\n",
       " 'age married': 7,\n",
       " 'married jashodaben': 73,\n",
       " 'jashodaben modi': 64,\n",
       " 'modi abandoned': 87,\n",
       " 'abandoned soon': 0,\n",
       " 'soon publicly': 153,\n",
       " 'publicly acknowledging': 124,\n",
       " 'acknowledging four': 4,\n",
       " 'four decade': 35,\n",
       " 'decade later': 29,\n",
       " 'later legally': 66,\n",
       " 'legally required': 68,\n",
       " 'age married jashodaben': 8,\n",
       " 'married jashodaben modi': 74,\n",
       " 'jashodaben modi abandoned': 65,\n",
       " 'modi abandoned soon': 88,\n",
       " 'abandoned soon publicly': 1,\n",
       " 'soon publicly acknowledging': 154,\n",
       " 'publicly acknowledging four': 125,\n",
       " 'acknowledging four decade': 5,\n",
       " 'four decade later': 36,\n",
       " 'decade later legally': 30,\n",
       " 'later legally required': 67,\n",
       " 'modi became': 89,\n",
       " 'became full': 11,\n",
       " 'full time': 37,\n",
       " 'time worker': 163,\n",
       " 'worker gujarat': 174,\n",
       " 'modi became full': 90,\n",
       " 'became full time': 12,\n",
       " 'full time worker': 38,\n",
       " 'time worker gujarat': 164,\n",
       " 'assigned bjp': 9,\n",
       " 'bjp held': 15,\n",
       " 'held several': 46,\n",
       " 'several position': 150,\n",
       " 'position within': 119,\n",
       " 'within party': 172,\n",
       " 'party hierarchy': 115,\n",
       " 'hierarchy rising': 50,\n",
       " 'rising rank': 137,\n",
       " 'rank general': 130,\n",
       " 'general secretary': 39,\n",
       " 'assigned bjp held': 10,\n",
       " 'bjp held several': 16,\n",
       " 'held several position': 47,\n",
       " 'several position within': 151,\n",
       " 'position within party': 120,\n",
       " 'within party hierarchy': 173,\n",
       " 'party hierarchy rising': 116,\n",
       " 'hierarchy rising rank': 51,\n",
       " 'rising rank general': 138,\n",
       " 'rank general secretary': 131}"
      ]
     },
     "execution_count": 102,
     "metadata": {},
     "output_type": "execute_result"
    }
   ],
   "source": [
    "cv.vocabulary_"
   ]
  },
  {
   "cell_type": "code",
   "execution_count": 103,
   "metadata": {},
   "outputs": [
    {
     "data": {
      "text/plain": [
       "'narendra damodardas modi gujarati n end mod modi listen born september b indian politician served th prime minister india since may'"
      ]
     },
     "execution_count": 103,
     "metadata": {},
     "output_type": "execute_result"
    }
   ],
   "source": [
    "corpus[0]"
   ]
  },
  {
   "cell_type": "code",
   "execution_count": 104,
   "metadata": {},
   "outputs": [
    {
     "data": {
      "text/plain": [
       "array([[0, 0, 0, 0, 0, 0, 0, 0, 0, 0, 0, 0, 0, 0, 0, 0, 0, 0, 0, 0, 0, 1,\n",
       "        1, 0, 0, 0, 0, 1, 1, 0, 0, 1, 1, 0, 0, 0, 0, 0, 0, 0, 0, 0, 0, 0,\n",
       "        1, 1, 0, 0, 0, 0, 0, 0, 0, 0, 1, 1, 0, 0, 1, 1, 0, 0, 0, 0, 0, 0,\n",
       "        0, 0, 0, 1, 1, 0, 0, 0, 0, 0, 0, 0, 0, 0, 0, 1, 1, 0, 0, 1, 1, 0,\n",
       "        0, 0, 0, 0, 0, 0, 0, 1, 1, 1, 1, 0, 1, 1, 0, 0, 0, 0, 0, 0, 0, 0,\n",
       "        0, 0, 0, 0, 0, 0, 0, 1, 1, 0, 0, 1, 1, 0, 0, 0, 0, 0, 0, 0, 0, 0,\n",
       "        0, 0, 0, 0, 0, 0, 0, 0, 0, 0, 0, 0, 1, 1, 1, 1, 0, 0, 0, 0, 1, 0,\n",
       "        0, 0, 0, 0, 0, 0, 0, 1, 1, 0, 0, 0, 0, 0, 0, 0, 0, 0, 0, 0, 0]],\n",
       "      dtype=int64)"
      ]
     },
     "execution_count": 104,
     "metadata": {},
     "output_type": "execute_result"
    }
   ],
   "source": [
    "x[0].toarray()"
   ]
  },
  {
   "cell_type": "code",
   "execution_count": 105,
   "metadata": {},
   "outputs": [
    {
     "data": {
      "text/plain": [
       "(1, 175)"
      ]
     },
     "execution_count": 105,
     "metadata": {},
     "output_type": "execute_result"
    }
   ],
   "source": [
    "x[0].toarray().shape"
   ]
  },
  {
   "cell_type": "code",
   "execution_count": 106,
   "metadata": {},
   "outputs": [],
   "source": [
    "from sklearn.feature_extraction.text import TfidfVectorizer\n",
    "\n",
    "cv = TfidfVectorizer()\n",
    "x = cv.fit_transform(corpus)"
   ]
  },
  {
   "cell_type": "code",
   "execution_count": 107,
   "metadata": {},
   "outputs": [
    {
     "data": {
      "text/plain": [
       "'narendra damodardas modi gujarati n end mod modi listen born september b indian politician served th prime minister india since may'"
      ]
     },
     "execution_count": 107,
     "metadata": {},
     "output_type": "execute_result"
    }
   ],
   "source": [
    "corpus[0]"
   ]
  },
  {
   "cell_type": "code",
   "execution_count": 108,
   "metadata": {},
   "outputs": [
    {
     "data": {
      "text/plain": [
       "<1x86 sparse matrix of type '<class 'numpy.float64'>'\n",
       "\twith 18 stored elements in Compressed Sparse Row format>"
      ]
     },
     "execution_count": 108,
     "metadata": {},
     "output_type": "execute_result"
    }
   ],
   "source": [
    "x[0]"
   ]
  },
  {
   "cell_type": "code",
   "execution_count": 109,
   "metadata": {},
   "outputs": [
    {
     "data": {
      "text/plain": [
       "array([[0.        , 0.        , 0.        , 0.        , 0.        ,\n",
       "        0.        , 0.        , 0.        , 0.20593297, 0.        ,\n",
       "        0.        , 0.        , 0.        , 0.24092389, 0.        ,\n",
       "        0.        , 0.        , 0.24092389, 0.        , 0.        ,\n",
       "        0.        , 0.        , 0.        , 0.24092389, 0.        ,\n",
       "        0.        , 0.        , 0.        , 0.24092389, 0.20593297,\n",
       "        0.        , 0.        , 0.        , 0.        , 0.        ,\n",
       "        0.24092389, 0.        , 0.        , 0.24092389, 0.        ,\n",
       "        0.18110652, 0.24092389, 0.2922312 , 0.        , 0.24092389,\n",
       "        0.        , 0.        , 0.        , 0.        , 0.        ,\n",
       "        0.        , 0.        , 0.        , 0.24092389, 0.        ,\n",
       "        0.20593297, 0.        , 0.        , 0.        , 0.        ,\n",
       "        0.        , 0.        , 0.        , 0.        , 0.        ,\n",
       "        0.        , 0.        , 0.        , 0.        , 0.24092389,\n",
       "        0.24092389, 0.        , 0.        , 0.24092389, 0.        ,\n",
       "        0.        , 0.        , 0.        , 0.24092389, 0.        ,\n",
       "        0.        , 0.        , 0.        , 0.        , 0.        ,\n",
       "        0.        ]])"
      ]
     },
     "execution_count": 109,
     "metadata": {},
     "output_type": "execute_result"
    }
   ],
   "source": [
    "x[0].toarray()"
   ]
  }
 ],
 "metadata": {
  "kernelspec": {
   "display_name": "Python 3",
   "language": "python",
   "name": "python3"
  },
  "language_info": {
   "codemirror_mode": {
    "name": "ipython",
    "version": 3
   },
   "file_extension": ".py",
   "mimetype": "text/x-python",
   "name": "python",
   "nbconvert_exporter": "python",
   "pygments_lexer": "ipython3",
   "version": "3.11.4"
  },
  "orig_nbformat": 4
 },
 "nbformat": 4,
 "nbformat_minor": 2
}
